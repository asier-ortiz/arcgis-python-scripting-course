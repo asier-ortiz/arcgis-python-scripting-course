{
 "cells": [
  {
   "cell_type": "code",
   "execution_count": 41,
   "metadata": {},
   "outputs": [
    {
     "name": "stdout",
     "output_type": "stream",
     "text": [
      "3\n"
     ]
    }
   ],
   "source": [
    "import arcpy\n",
    "\n",
    "aprx = arcpy.mp.ArcGISProject('CURRENT')\n",
    "\n",
    "listOfMaps = aprx.listMaps()\n",
    "\n",
    "print (len(listOfMaps))"
   ]
  },
  {
   "cell_type": "code",
   "execution_count": 42,
   "metadata": {},
   "outputs": [
    {
     "name": "stdout",
     "output_type": "stream",
     "text": [
      "Motorist Assistance Patrol - New Orleans\n"
     ]
    }
   ],
   "source": [
    "print (listOfMaps[0].name)"
   ]
  },
  {
   "cell_type": "code",
   "execution_count": 44,
   "metadata": {},
   "outputs": [
    {
     "name": "stdout",
     "output_type": "stream",
     "text": [
      "<arcpy._mp.Map object at 0x000002549DC54250>\n"
     ]
    }
   ],
   "source": [
    "listOfMaps = aprx.listMaps(\"Baytown*\")\n",
    "print (listOfMaps[0])"
   ]
  },
  {
   "cell_type": "code",
   "execution_count": 45,
   "metadata": {},
   "outputs": [
    {
     "name": "stdout",
     "output_type": "stream",
     "text": [
      "Baytown\n"
     ]
    }
   ],
   "source": [
    "print (listOfMaps[0].name)"
   ]
  },
  {
   "cell_type": "code",
   "execution_count": null,
   "metadata": {},
   "outputs": [],
   "source": []
  }
 ],
 "metadata": {
  "kernelspec": {
   "display_name": "ArcGISPro",
   "language": "Python",
   "name": "python3"
  },
  "language_info": {
   "file_extension": ".py",
   "name": "python",
   "version": "3"
  }
 },
 "nbformat": 4,
 "nbformat_minor": 2
}
