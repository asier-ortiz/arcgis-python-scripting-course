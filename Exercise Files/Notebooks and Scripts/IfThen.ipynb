{
 "cells": [
  {
   "cell_type": "code",
   "execution_count": 4,
   "metadata": {},
   "outputs": [
    {
     "name": "stdout",
     "output_type": "stream",
     "text": [
      "Enter a number:10329847123\n",
      "You entered 10329847123 which is a valid number.\n"
     ]
    }
   ],
   "source": [
    "strInput = input ('Enter a number:')\n",
    "if strInput.isdigit():\n",
    "    print ('You entered',strInput,'which is a valid number.')\n",
    "else:\n",
    "    print ('Hey, you entered',strInput+\"! That's not a number.\")"
   ]
  },
  {
   "cell_type": "code",
   "execution_count": null,
   "metadata": {},
   "outputs": [],
   "source": []
  },
  {
   "cell_type": "code",
   "execution_count": null,
   "metadata": {},
   "outputs": [],
   "source": []
  }
 ],
 "metadata": {
  "kernelspec": {
   "display_name": "ArcGISPro",
   "language": "Python",
   "name": "python3"
  },
  "language_info": {
   "file_extension": ".py",
   "name": "python",
   "version": "3"
  }
 },
 "nbformat": 4,
 "nbformat_minor": 2
}
