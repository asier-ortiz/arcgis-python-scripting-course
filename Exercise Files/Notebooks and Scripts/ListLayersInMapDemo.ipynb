{
 "cells": [
  {
   "cell_type": "code",
   "execution_count": 57,
   "metadata": {},
   "outputs": [
    {
     "name": "stdout",
     "output_type": "stream",
     "text": [
      "Pipelines: True\n",
      "Railroads: True\n",
      "Tanks: False\n",
      "Flares: True\n",
      "Roads: True\n",
      "Tank Farm: True\n",
      "Retention Ponds: True\n",
      "World Imagery: True\n",
      "All done!\n"
     ]
    }
   ],
   "source": [
    "import arcpy\n",
    "aprx = arcpy.mp.ArcGISProject(r\"C:\\Users\\linkedin\\Desktop\\Exercise Files\\GISData\\PythonPracticeProject\\PythonPracticeProject.aprx\")\n",
    "map = aprx.listMaps(\"Baytown\")\n",
    "lstOfLayers = map[0].listLayers()\n",
    "for eachLyr in lstOfLayers:\n",
    "    print (eachLyr.name+\":\", eachLyr.visible)\n",
    "print (\"All done!\")"
   ]
  },
  {
   "cell_type": "code",
   "execution_count": null,
   "metadata": {},
   "outputs": [],
   "source": []
  }
 ],
 "metadata": {
  "kernelspec": {
   "display_name": "ArcGISPro",
   "language": "Python",
   "name": "python3"
  },
  "language_info": {
   "file_extension": ".py",
   "name": "python",
   "version": "3"
  }
 },
 "nbformat": 4,
 "nbformat_minor": 2
}
