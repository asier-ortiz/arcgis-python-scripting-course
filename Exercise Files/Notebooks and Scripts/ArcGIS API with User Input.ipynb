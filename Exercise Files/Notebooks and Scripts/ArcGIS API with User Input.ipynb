{
 "cells": [
  {
   "cell_type": "code",
   "execution_count": 9,
   "metadata": {},
   "outputs": [
    {
     "name": "stdout",
     "output_type": "stream",
     "text": [
      "········\n"
     ]
    }
   ],
   "source": [
    "import arcgis, getpass\n",
    "myUserName = \"ictjenny\"\n",
    "myPassword = getpass.getpass()\n",
    "\n",
    "gis = arcgis.gis.GIS('http://www.arcgis.com',myUserName,myPassword)"
   ]
  },
  {
   "cell_type": "code",
   "execution_count": 13,
   "metadata": {},
   "outputs": [
    {
     "data": {
      "application/vnd.jupyter.widget-view+json": {
       "model_id": "aece797a81344c13814979d9925f741b",
       "version_major": 2,
       "version_minor": 0
      },
      "text/plain": [
       "MapView(layout=Layout(height='400px', width='100%'))"
      ]
     },
     "metadata": {},
     "output_type": "display_data"
    },
    {
     "data": {
      "text/html": [
       "<div class=\"map-static-img-preview-c85864b2-ef7f-4747-8a82-eb2ad60809cf\"><img src=\"\"></img></div>"
      ],
      "text/plain": [
       "<display.HTML object>"
      ]
     },
     "metadata": {},
     "output_type": "display_data"
    },
    {
     "data": {
      "text/html": [
       "<div class=\"map-html-embed-preview-c85864b2-ef7f-4747-8a82-eb2ad60809cf\"></div>"
      ],
      "text/plain": [
       "<display.HTML object>"
      ]
     },
     "metadata": {},
     "output_type": "display_data"
    }
   ],
   "source": [
    "myMap = gis.map(\"abha\")\n",
    "myMap"
   ]
  },
  {
   "cell_type": "code",
   "execution_count": 11,
   "metadata": {},
   "outputs": [],
   "source": [
    "myMap.basemap = 'satellite'"
   ]
  },
  {
   "cell_type": "code",
   "execution_count": 12,
   "metadata": {},
   "outputs": [],
   "source": [
    "myMap.mode = \"3D\"\n",
    "myMap.tilt = 25"
   ]
  },
  {
   "cell_type": "code",
   "execution_count": 15,
   "metadata": {},
   "outputs": [
    {
     "data": {
      "text/html": [
       "<div class=\"item_container\" style=\"height: auto; overflow: hidden; border: 1px solid #cfcfcf; border-radius: 2px; background: #f6fafa; line-height: 1.21429em; padding: 10px;\">\n",
       "                    <div class=\"item_left\" style=\"width: 210px; float: left;\">\n",
       "                       <a href='http://teachmegis.maps.arcgis.com/home/item.html?id=63a2defe59784e4986045624c89e03fb' target='_blank'>\n",
       "                        <img src='data:image/png;base64,iVBORw0KGgoAAAANSUhEUgAAAMgAAACFCAYAAAAenrcsAAAC+UlEQVR4Xu3XsU5UeRjGYe+SgoKCWyChW0ouwK0koaBELwBoVAptMNFogmBEZBCYVRgsRmUAvz3nhM3qRN/Ccnie5MxMZs7p5pfv/90p4LfujH8B/E8gEAgEAoFAIBAIBAKBQCAQCAQCgUAgEAgEAoFAIBAIBAKBQCAQCAQCgUAgEAgEAoFAIBAIBAKBQCAQCAQCgUAgEAgEAoFAIBAIBAKBQCAQCAQCgUAgEAgEAoFAIBAIBAKBQCAQCAQCgUAgEAgEAoFAIBAIBAKBQCAQCAQCgUAgEAgEAoFAIBAIBAKBQCAQCAQCgUAgEAgEAoFAIBAIBAKBQCAQCAQCgUAgEAgEAoFAIBAIBAKBQCAQCAQCgUAgEAgEAoFAIBAIBAKBQCAQyJjv7fW9fQWB/OT6+rrOP3+ufv+f7v1aKLeeQG60cZwNBnX37t81Pz9fS0tLdXY2GL+NW0YgN66urmr//fuam5vrAvlrYaF6h4fjt3HLCORGO0E+HB3V+vp6bW1t1draWh30Dms4/NLF8592P7m4GDXXhV3lFhDIDy4vL2swOK+Tfr+2t7drdXW1Hj58VMfHx93v3Y5yfl7Pn7+o1zs7tbe3X59OT7vnmEwCGdNOhXZqrKys1PT0dM3OztbLl6/q69dv3SR5/HizpqamamZmpp48fVrbr3e6pb6Nh8kjkF9oY7h//0EtLy/XvXtLzZHrWTcl2kA2NjZqodlPFhcXa3Nzs5k0O/Xu3b5AJpRAfqENod8cs45PTprj1Ul37Gq1EfR6ve749fbtXnPM2q3d3TfdZ4FMJoH8RvuHb5fx0ejn/WI0GtXHT6d1cNCrvWZyHDUBDYdDC/uEEsgfuOriueiu9ugljsklEAgEAoFAIBAIBAKBQCAQCAQCgUAgEAgEAoFAIBAIBAKBQCAQCAQCgUAgEAgEAoFAIBAIBAKBQCAQCAQCgUAgEAgEAoFAIBAIBAKBQCAQCAQCgUAgEAgEAoFAIBAIBAKBQCAQCAQCgUAgEAgEAsG/8UTr0N10VR8AAAAASUVORK5CYII=' width='200' height='133' class=\"itemThumbnail\">\n",
       "                       </a>\n",
       "                    </div>\n",
       "\n",
       "                    <div class=\"item_right\"     style=\"float: none; width: auto; overflow: hidden;\">\n",
       "                        <a href='http://teachmegis.maps.arcgis.com/home/item.html?id=63a2defe59784e4986045624c89e03fb' target='_blank'><b>Abha Scenic Overlooks</b>\n",
       "                        </a>\n",
       "                        <br/>Abha Scenic Overlooks<img src='http://teachmegis.maps.arcgis.com/home/js/jsapi/esri/css/images/item_type_icons/featureshosted16.png' style=\"vertical-align:middle;\">Feature Layer Collection by ictjenny\n",
       "                        <br/>Last Modified: February 01, 2024\n",
       "                        <br/>0 comments, 9 views\n",
       "                    </div>\n",
       "                </div>\n",
       "                "
      ],
      "text/plain": [
       "<Item title:\"Abha Scenic Overlooks\" type:Feature Layer Collection owner:ictjenny>"
      ]
     },
     "metadata": {},
     "output_type": "display_data"
    },
    {
     "data": {
      "text/html": [
       "<div class=\"item_container\" style=\"height: auto; overflow: hidden; border: 1px solid #cfcfcf; border-radius: 2px; background: #f6fafa; line-height: 1.21429em; padding: 10px;\">\n",
       "                    <div class=\"item_left\" style=\"width: 210px; float: left;\">\n",
       "                       <a href='http://teachmegis.maps.arcgis.com/home/item.html?id=706336bfa8f74a98b70b04a7eedae287' target='_blank'>\n",
       "                        <img src='data:image/png;base64,iVBORw0KGgoAAAANSUhEUgAAAMgAAACFCAYAAAAenrcsAAAC+UlEQVR4Xu3XsU5UeRjGYe+SgoKCWyChW0ouwK0koaBELwBoVAptMNFogmBEZBCYVRgsRmUAvz3nhM3qRN/Ccnie5MxMZs7p5pfv/90p4LfujH8B/E8gEAgEAoFAIBAIBAKBQCAQCAQCgUAgEAgEAoFAIBAIBAKBQCAQCAQCgUAgEAgEAoFAIBAIBAKBQCAQCAQCgUAgEAgEAoFAIBAIBAKBQCAQCAQCgUAgEAgEAoFAIBAIBAKBQCAQCAQCgUAgEAgEAoFAIBAIBAKBQCAQCAQCgUAgEAgEAoFAIBAIBAKBQCAQCAQCgUAgEAgEAoFAIBAIBAKBQCAQCAQCgUAgEAgEAoFAIBAIBAKBQCAQCAQCgUAgEAgEAoFAIBAIBAKBQCAQyJjv7fW9fQWB/OT6+rrOP3+ufv+f7v1aKLeeQG60cZwNBnX37t81Pz9fS0tLdXY2GL+NW0YgN66urmr//fuam5vrAvlrYaF6h4fjt3HLCORGO0E+HB3V+vp6bW1t1draWh30Dms4/NLF8592P7m4GDXXhV3lFhDIDy4vL2swOK+Tfr+2t7drdXW1Hj58VMfHx93v3Y5yfl7Pn7+o1zs7tbe3X59OT7vnmEwCGdNOhXZqrKys1PT0dM3OztbLl6/q69dv3SR5/HizpqamamZmpp48fVrbr3e6pb6Nh8kjkF9oY7h//0EtLy/XvXtLzZHrWTcl2kA2NjZqodlPFhcXa3Nzs5k0O/Xu3b5AJpRAfqENod8cs45PTprj1Ul37Gq1EfR6ve749fbtXnPM2q3d3TfdZ4FMJoH8RvuHb5fx0ejn/WI0GtXHT6d1cNCrvWZyHDUBDYdDC/uEEsgfuOriueiu9ugljsklEAgEAoFAIBAIBAKBQCAQCAQCgUAgEAgEAoFAIBAIBAKBQCAQCAQCgUAgEAgEAoFAIBAIBAKBQCAQCAQCgUAgEAgEAoFAIBAIBAKBQCAQCAQCgUAgEAgEAoFAIBAIBAKBQCAQCAQCgUAgEAgEAsG/8UTr0N10VR8AAAAASUVORK5CYII=' width='200' height='133' class=\"itemThumbnail\">\n",
       "                       </a>\n",
       "                    </div>\n",
       "\n",
       "                    <div class=\"item_right\"     style=\"float: none; width: auto; overflow: hidden;\">\n",
       "                        <a href='http://teachmegis.maps.arcgis.com/home/item.html?id=706336bfa8f74a98b70b04a7eedae287' target='_blank'><b>Abha Scenic Overlooks</b>\n",
       "                        </a>\n",
       "                        <br/>Abha Scenic Overlooks<img src='http://teachmegis.maps.arcgis.com/home/js/jsapi/esri/css/images/item_type_icons/layers16.png' style=\"vertical-align:middle;\">Service Definition by ictjenny\n",
       "                        <br/>Last Modified: February 01, 2024\n",
       "                        <br/>0 comments, 1 views\n",
       "                    </div>\n",
       "                </div>\n",
       "                "
      ],
      "text/plain": [
       "<Item title:\"Abha Scenic Overlooks\" type:Service Definition owner:ictjenny>"
      ]
     },
     "metadata": {},
     "output_type": "display_data"
    }
   ],
   "source": [
    "search_results = gis.content.search(\"abha\")\n",
    "for anItem in search_results:\n",
    "    display(anItem)"
   ]
  },
  {
   "cell_type": "code",
   "execution_count": 16,
   "metadata": {},
   "outputs": [],
   "source": [
    "scenic_overlookItem = gis.content.get('63a2defe59784e4986045624c89e03fb')\n",
    "myMap.add_layer(scenic_overlookItem)"
   ]
  },
  {
   "cell_type": "code",
   "execution_count": 17,
   "metadata": {},
   "outputs": [
    {
     "name": "stdout",
     "output_type": "stream",
     "text": [
      "Where do you want to search?White Plains, Kentucky\n"
     ]
    }
   ],
   "source": [
    "searchLocation = input(\"Where do you want to search?\")\n",
    "if (searchLocation != ''):\n",
    "    location = arcgis.geocode(searchLocation, max_locations=1)[0]\n",
    "    myMap.extent = location['extent']"
   ]
  },
  {
   "cell_type": "code",
   "execution_count": null,
   "metadata": {},
   "outputs": [],
   "source": []
  }
 ],
 "metadata": {
  "kernelspec": {
   "display_name": "ArcGISPro",
   "language": "Python",
   "name": "python3"
  },
  "language_info": {
   "file_extension": ".py",
   "name": "python",
   "version": "3"
  }
 },
 "nbformat": 4,
 "nbformat_minor": 2
}
