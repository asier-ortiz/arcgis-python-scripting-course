{
 "cells": [
  {
   "cell_type": "code",
   "execution_count": null,
   "metadata": {},
   "outputs": [],
   "source": [
    "import arcpy\n",
    "strFC = r'C:\\Users\\linkedin\\Desktop\\Exercise Files\\GISData\\PythonPracticeProject\\Baytown.gdb\\Railroads'\n",
    "strOutFC =  r'C:\\Users\\linkedin\\Desktop\\Exercise Files\\GISData\\PythonPracticeProject\\Baytown.gdb\\RailRoadsBuffer'\n",
    "arcpy.analysis.Buffer(strFC, strOutFC, 500)\n",
    "\n"
   ]
  }
 ],
 "metadata": {
  "kernelspec": {
   "display_name": "ArcGISPro",
   "language": "Python",
   "name": "python3"
  },
  "language_info": {
   "file_extension": ".py",
   "name": "python",
   "version": "3"
  }
 },
 "nbformat": 4,
 "nbformat_minor": 2
}
