{
 "cells": [
  {
   "cell_type": "code",
   "execution_count": 1,
   "metadata": {},
   "outputs": [
    {
     "name": "stdout",
     "output_type": "stream",
     "text": [
      "This script converts feet to meters.\n",
      "30 feet is 9.144 meters\n"
     ]
    }
   ],
   "source": [
    "numFeet = 30\n",
    "print ('This script converts feet to meters.')\n",
    "print (str(numFeet) + \" feet is \" + str(numFeet*.3048) + \" meters\")"
   ]
  },
  {
   "cell_type": "code",
   "execution_count": 2,
   "metadata": {},
   "outputs": [
    {
     "name": "stdout",
     "output_type": "stream",
     "text": [
      "30 feet is 9.144 meters\n"
     ]
    }
   ],
   "source": [
    "print (numFeet,\"feet is\", numFeet*.3048,\"meters\")"
   ]
  },
  {
   "cell_type": "code",
   "execution_count": null,
   "metadata": {},
   "outputs": [],
   "source": []
  }
 ],
 "metadata": {
  "kernelspec": {
   "display_name": "ArcGISPro",
   "language": "Python",
   "name": "python3"
  },
  "language_info": {
   "file_extension": ".py",
   "name": "python",
   "version": "3"
  }
 },
 "nbformat": 4,
 "nbformat_minor": 2
}
