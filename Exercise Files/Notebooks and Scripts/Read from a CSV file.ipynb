{
 "cells": [
  {
   "cell_type": "code",
   "execution_count": 4,
   "metadata": {},
   "outputs": [
    {
     "name": "stdout",
     "output_type": "stream",
     "text": [
      "OID_,STATUS,TYPE,LAT,LON\n",
      "\n",
      "Diesel\n"
     ]
    }
   ],
   "source": [
    "inFile = open(r\"C:\\Users\\linkedin\\Desktop\\Exercise Files\\GISData\\datafile.csv\",'r')\n",
    "rec1 = inFile.readline()\n",
    "print (rec1)\n",
    "rec2 = inFile.readline().split(\",\")\n",
    "print (rec2[2])"
   ]
  },
  {
   "cell_type": "code",
   "execution_count": null,
   "metadata": {},
   "outputs": [],
   "source": []
  }
 ],
 "metadata": {
  "kernelspec": {
   "display_name": "ArcGISPro",
   "language": "Python",
   "name": "python3"
  },
  "language_info": {
   "file_extension": ".py",
   "name": "python",
   "version": "3"
  }
 },
 "nbformat": 4,
 "nbformat_minor": 2
}
