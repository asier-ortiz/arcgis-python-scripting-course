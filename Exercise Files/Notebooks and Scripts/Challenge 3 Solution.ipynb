{
 "cells": [
  {
   "cell_type": "code",
   "execution_count": 8,
   "metadata": {},
   "outputs": [
    {
     "name": "stdout",
     "output_type": "stream",
     "text": [
      "Tanks: NAD_1927_StatePlane_Texas_South_Central_FIPS_4204\n",
      "RetentionPonds: NAD_1927_StatePlane_Texas_South_Central_FIPS_4204\n",
      "CoolingTowers: NAD_1927_StatePlane_Texas_South_Central_FIPS_4204\n",
      "Pipelines: NAD_1927_StatePlane_Texas_South_Central_FIPS_4204\n",
      "Flares: NAD_1927_StatePlane_Texas_South_Central_FIPS_4204\n",
      "TankFarm: NAD_1927_StatePlane_Texas_South_Central_FIPS_4204\n",
      "RailroadsBuffer: NAD_1927_StatePlane_Texas_South_Central_FIPS_4204\n"
     ]
    }
   ],
   "source": [
    "import arcpy,sys\n",
    "\n",
    "arcpy.env.workspace=r'C:\\Users\\linkedin\\Desktop\\Exercise Files\\GISData\\PythonPracticeProject\\Baytown.gdb'\n",
    "outFile = open(r'C:\\Users\\linkedin\\Desktop\\Exercise Files\\GISData\\PythonPracticeProject\\NAD27Datasets.txt','w')\n",
    "    \n",
    "for eachFC in arcpy.ListFeatureClasses():\n",
    "    descFC = arcpy.Describe(eachFC)\n",
    "    spatialRef = descFC.spatialReference.Name\n",
    "    # print (spatialRef)\n",
    "    if (spatialRef[0:8] == \"NAD_1927\"):\n",
    "        print (eachFC + \": \"+ spatialRef )\n",
    "        outFile.write(eachFC + \": \" + spatialRef+\"\\n\")\n",
    "outFile.close()"
   ]
  },
  {
   "cell_type": "code",
   "execution_count": null,
   "metadata": {},
   "outputs": [],
   "source": []
  }
 ],
 "metadata": {
  "kernelspec": {
   "display_name": "ArcGISPro",
   "language": "Python",
   "name": "python3"
  },
  "language_info": {
   "file_extension": ".py",
   "name": "python",
   "version": "3"
  }
 },
 "nbformat": 4,
 "nbformat_minor": 2
}
