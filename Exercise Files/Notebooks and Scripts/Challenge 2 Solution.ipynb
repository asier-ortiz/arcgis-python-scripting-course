{
 "cells": [
  {
   "cell_type": "code",
   "execution_count": 10,
   "metadata": {},
   "outputs": [
    {
     "name": "stdout",
     "output_type": "stream",
     "text": [
      "Flares\n",
      "Roads\n",
      "There are 2 layers not visible on this map.\n"
     ]
    }
   ],
   "source": [
    "import arcpy\n",
    "aprx = arcpy.mp.ArcGISProject(\"CURRENT\")\n",
    "mapObj = aprx.listMaps(\"Baytown\")[0]\n",
    "lstOfLayers = mapObj.listLayers()\n",
    "count = 0\n",
    "for eachLayer in lstOfLayers:\n",
    "       if(eachLayer.visible == False):\n",
    "            count = count + 1\n",
    "            print (eachLayer)\n",
    "print (\"There are\",count,\"layers not visible on this map.\")"
   ]
  },
  {
   "cell_type": "code",
   "execution_count": null,
   "metadata": {},
   "outputs": [],
   "source": []
  }
 ],
 "metadata": {
  "kernelspec": {
   "display_name": "ArcGISPro",
   "language": "Python",
   "name": "python3"
  },
  "language_info": {
   "file_extension": ".py",
   "name": "python",
   "version": "3"
  }
 },
 "nbformat": 4,
 "nbformat_minor": 2
}
