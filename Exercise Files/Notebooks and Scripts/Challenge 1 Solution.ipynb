{
 "cells": [
  {
   "cell_type": "code",
   "execution_count": 68,
   "metadata": {},
   "outputs": [
    {
     "name": "stdout",
     "output_type": "stream",
     "text": [
      "259\n"
     ]
    },
    {
     "data": {
      "text/html": [
       "<div class='gpresult'><h2>Messages</h2><div id='messages' data-messages='[\"Start Time: Friday, February 2, 2024 9:48:37 AM\",\"Succeeded at Friday, February 2, 2024 9:48:37 AM (Elapsed Time: 0.11 seconds)\"]' data-show='true'><div id = 'default' /></div></div>"
      ],
      "text/plain": [
       "<Result 'Tanks'>"
      ]
     },
     "execution_count": 68,
     "metadata": {},
     "output_type": "execute_result"
    }
   ],
   "source": [
    "import arcpy\n",
    "\n",
    "# Connect to the project\n",
    "aprx = arcpy.mp.ArcGISProject('CURRENT')\n",
    "\n",
    "# Connect to the map name \"Baytown\"\n",
    "mapObj = aprx.listMaps(\"Baytown\")[0]\n",
    "\n",
    "# Connect to the layer named \"Tanks\"\n",
    "lyr = mapObj.listLayers(\"Tanks\")[0]\n",
    "\n",
    "# Print the count of the number of features\n",
    "print (arcpy.management.GetCount(lyr))\n",
    "\n",
    "# Add the inspector field and populate it\n",
    "arcpy.management.AddField(\"Tanks\", \"Inspector\", \"TEXT\")\n",
    "arcpy.management.CalculateField(\"Tanks\",\"Inspector\",'\"JENNY\"')"
   ]
  },
  {
   "cell_type": "code",
   "execution_count": null,
   "metadata": {},
   "outputs": [],
   "source": []
  }
 ],
 "metadata": {
  "kernelspec": {
   "display_name": "ArcGISPro",
   "language": "Python",
   "name": "python3"
  },
  "language_info": {
   "file_extension": ".py",
   "name": "python",
   "version": "3"
  }
 },
 "nbformat": 4,
 "nbformat_minor": 2
}
