{
 "cells": [
  {
   "cell_type": "code",
   "execution_count": 16,
   "metadata": {},
   "outputs": [
    {
     "name": "stdout",
     "output_type": "stream",
     "text": [
      "Broken Layers Report Header written to file\n",
      "SafeLocations-C:\\Users\\linkedin\\Desktop\\Exercise Files\\GISData\\MotoristAssistance\\MotoristAssistance.gdb\\SafeLocations written to file\n"
     ]
    }
   ],
   "source": [
    "import arcpy\n",
    "strAprx = r\"C:\\Users\\linkedin\\Desktop\\Exercise Files\\GISData\\MotoristAssistance\\MotoristAssistance.aprx\"\n",
    "strOutFile = r'C:\\Users\\linkedin\\Desktop\\Exercise Files\\GISData\\BrokenLinks.txt'\n",
    "\n",
    "aprx = arcpy.mp.ArcGISProject(strAprx)\n",
    "map = aprx.listMaps(\"New Orleans\")[0]\n",
    "outFile = open(strOutFile,'w')\n",
    "outFile.write (\"Broken Layers Report\")\n",
    "print (\"Broken Layers Report Header written to file\")\n",
    "outFile.write(map.name)\n",
    "\n",
    "lstBroken = aprx.listBrokenDataSources()\n",
    "for eachLyr in lstBroken:\n",
    "    outFile.write(eachLyr.name + '-'+eachLyr.dataSource)\n",
    "    print (eachLyr.name + '-' + eachLyr.dataSource,\"written to file\")\n",
    "outFile.close()"
   ]
  },
  {
   "cell_type": "code",
   "execution_count": null,
   "metadata": {},
   "outputs": [],
   "source": []
  }
 ],
 "metadata": {
  "kernelspec": {
   "display_name": "ArcGISPro",
   "language": "Python",
   "name": "python3"
  },
  "language_info": {
   "file_extension": ".py",
   "name": "python",
   "version": "3"
  }
 },
 "nbformat": 4,
 "nbformat_minor": 2
}
