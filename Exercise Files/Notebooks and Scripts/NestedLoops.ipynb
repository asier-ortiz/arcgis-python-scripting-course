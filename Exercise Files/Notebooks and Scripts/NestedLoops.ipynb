{
 "cells": [
  {
   "cell_type": "code",
   "execution_count": 65,
   "metadata": {},
   "outputs": [
    {
     "name": "stdout",
     "output_type": "stream",
     "text": [
      "Checking Map: 0 :\t Baytown for label classes.\n",
      "Layer name: World Imagery\n",
      "Label name:\t Class 1\n",
      "SQL Query:\t $feature.SHAPE_Length\n",
      "---------------------------------\n",
      "Finished loop 3 - processing label classes\n",
      "Layer name: World Imagery\n",
      "Label name:\t Class 1\n",
      "SQL Query:\t $feature.Name\n",
      "---------------------------------\n",
      "Finished loop 3 - processing label classes\n",
      "Layer name: World Imagery\n",
      "Label name:\t Class 1\n",
      "SQL Query:\t $feature.STATUS\n",
      "---------------------------------\n",
      "Label name:\t <Null>\n",
      "SQL Query:\t $feature.STATUS\n",
      "---------------------------------\n",
      "Label name:\t Additives\n",
      "SQL Query:\t $feature.STATUS\n",
      "---------------------------------\n",
      "Label name:\t Benzene\n",
      "SQL Query:\t $feature.STATUS\n",
      "---------------------------------\n",
      "Label name:\t Crude\n",
      "SQL Query:\t $feature.STATUS\n",
      "---------------------------------\n",
      "Label name:\t Diesel\n",
      "SQL Query:\t $feature.STATUS\n",
      "---------------------------------\n",
      "Label name:\t Gasoline\n",
      "SQL Query:\t $feature.STATUS\n",
      "---------------------------------\n",
      "Label name:\t Refined Crude\n",
      "SQL Query:\t $feature.STATUS\n",
      "---------------------------------\n",
      "Finished loop 3 - processing label classes\n",
      "Layer name: World Imagery\n",
      "Label name:\t Class 1\n",
      "SQL Query:\t $feature.OBJECTID\n",
      "---------------------------------\n",
      "Finished loop 3 - processing label classes\n",
      "Layer name: World Imagery\n",
      "Label name:\t Class 1\n",
      "SQL Query:\t $feature.SHAPE_Length\n",
      "---------------------------------\n",
      "Finished loop 3 - processing label classes\n",
      "Layer name: World Imagery\n",
      "Label name:\t Class 1\n",
      "SQL Query:\t $feature.NAME\n",
      "---------------------------------\n",
      "Finished loop 3 - processing label classes\n",
      "Layer name: World Imagery\n",
      "Label name:\t Class 1\n",
      "SQL Query:\t $feature.SHAPE_Length\n",
      "---------------------------------\n",
      "Finished loop 3 - processing label classes\n",
      "Layer name: World Imagery\n"
     ]
    },
    {
     "ename": "RuntimeError",
     "evalue": "",
     "output_type": "error",
     "traceback": [
      "\u001b[0;31m---------------------------------------------------------------------------\u001b[0m\n\u001b[0;31mRuntimeError\u001b[0m                              Traceback (most recent call last)",
      "In  \u001b[0;34m[65]\u001b[0m:\nLine \u001b[0;34m12\u001b[0m:    \u001b[34mfor\u001b[39;49;00m eachLabelClass \u001b[35min\u001b[39;49;00m eachLayer.listLabelClasses():\n",
      "File \u001b[0;34mC:\\Program Files\\ArcGIS\\Pro\\Resources\\ArcPy\\arcpy\\_mp.py\u001b[0m, in \u001b[0;32mlistLabelClasses\u001b[0m:\nLine \u001b[0;34m613\u001b[0m:   \u001b[34mreturn\u001b[39;49;00m convertArcObjectToPythonObject(\u001b[36mself\u001b[39;49;00m._arc_object.listLabelClasses(*gp_fixargs((wildcard,), \u001b[34mTrue\u001b[39;49;00m)))\n",
      "\u001b[0;31mRuntimeError\u001b[0m: \n\u001b[0;31m---------------------------------------------------------------------------\u001b[0m"
     ]
    }
   ],
   "source": [
    "import arcpy\n",
    "strProjName = r'C:\\Users\\linkedin\\Desktop\\Exercise Files\\GISData\\PythonPracticeProject\\PythonPracticeProject.aprx'\n",
    "prj = arcpy.mp.ArcGISProject(strProjName)\n",
    "listOfMaps = prj.listMaps(\"Baytown\")\n",
    "count = 0 \n",
    "for eachMap in listOfMaps:\n",
    "    print ('Checking Map:',count,':\\t',eachMap.name, \"for label classes.\")\n",
    "    count = count + 1\n",
    "    lstOfLayers = eachMap.listLayers()\n",
    "    for eachLayer in lstOfLayers:\n",
    "        print ('Layer name:',eachLyr.name)\n",
    "        for eachLabelClass in eachLayer.listLabelClasses():\n",
    "            print ('Label name:\\t',eachLabelClass.name)\n",
    "            print ('SQL Query:\\t',eachLabelClass.expression)\n",
    "            print ('---------------------------------')\n",
    "        print (\"Finished loop 3 - processing label classes\")\n",
    "    print (\"Finished loop 2 - processing layers\")\n",
    "print (\"Finished loop 1 - processing maps\")"
   ]
  },
  {
   "cell_type": "code",
   "execution_count": null,
   "metadata": {},
   "outputs": [],
   "source": []
  }
 ],
 "metadata": {
  "kernelspec": {
   "display_name": "ArcGISPro",
   "language": "Python",
   "name": "python3"
  },
  "language_info": {
   "file_extension": ".py",
   "name": "python",
   "version": "3"
  }
 },
 "nbformat": 4,
 "nbformat_minor": 2
}
