{
 "cells": [
  {
   "cell_type": "code",
   "execution_count": 48,
   "metadata": {},
   "outputs": [
    {
     "name": "stdout",
     "output_type": "stream",
     "text": [
      "1 ------Still counting.....\n",
      "2 ------Still counting.....\n",
      "3 ------Still counting.....\n",
      "4 ------Still counting.....\n",
      "5 ------Still counting.....\n",
      "6 ------Still counting.....\n",
      "7 ------Still counting.....\n",
      "8 ------Still counting.....\n",
      "9 ------Still counting.....\n",
      "All done!\n"
     ]
    }
   ],
   "source": [
    "for eachNum in range(1,10):\n",
    "    print (eachNum, \"------Still counting.....\")\n",
    "print (\"All done!\")"
   ]
  },
  {
   "cell_type": "code",
   "execution_count": 49,
   "metadata": {},
   "outputs": [
    {
     "name": "stdout",
     "output_type": "stream",
     "text": [
      "parcels\n",
      "buildings\n",
      "waterlines\n",
      "Found  3 feature classes in the list\n"
     ]
    }
   ],
   "source": [
    "myList = ['parcels','buildings','waterlines']\n",
    "numCount = 0\n",
    "for strFC in myList:\n",
    "    print (strFC)\n",
    "    numCount = numCount + 1\n",
    "print (\"Found \",numCount,\"feature classes in the list\")"
   ]
  },
  {
   "cell_type": "code",
   "execution_count": 50,
   "metadata": {},
   "outputs": [
    {
     "name": "stdout",
     "output_type": "stream",
     "text": [
      "0\n",
      "1\n",
      "2\n",
      "3\n",
      "4\n",
      "5\n",
      "6\n",
      "7\n",
      "8\n",
      "9\n"
     ]
    }
   ],
   "source": [
    "x = 0\n",
    "while x < 10:\n",
    "    print (x)\n",
    "    x = x + 1"
   ]
  },
  {
   "cell_type": "code",
   "execution_count": null,
   "metadata": {},
   "outputs": [],
   "source": []
  }
 ],
 "metadata": {
  "kernelspec": {
   "display_name": "ArcGISPro",
   "language": "Python",
   "name": "python3"
  },
  "language_info": {
   "file_extension": ".py",
   "name": "python",
   "version": "3"
  }
 },
 "nbformat": 4,
 "nbformat_minor": 2
}
