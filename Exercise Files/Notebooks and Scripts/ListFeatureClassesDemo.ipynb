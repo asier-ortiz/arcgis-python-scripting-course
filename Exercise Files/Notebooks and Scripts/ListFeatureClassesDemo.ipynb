{
 "cells": [
  {
   "cell_type": "code",
   "execution_count": 40,
   "metadata": {},
   "outputs": [
    {
     "name": "stdout",
     "output_type": "stream",
     "text": [
      "['Tanks', 'RetentionPonds', 'CoolingTowers', 'Pipelines', 'Flares', 'TankFarm', 'RailroadsBuffer']\n"
     ]
    }
   ],
   "source": [
    "import arcpy\n",
    "arcpy.env.workspace = r\"C:\\Users\\linkedin\\Desktop\\Exercise Files\\GISData\\PythonPracticeProject\\Baytown.gdb\"\n",
    "print (arcpy.ListFeatureClasses())\n"
   ]
  },
  {
   "cell_type": "code",
   "execution_count": null,
   "metadata": {},
   "outputs": [],
   "source": []
  }
 ],
 "metadata": {
  "kernelspec": {
   "display_name": "ArcGISPro",
   "language": "Python",
   "name": "python3"
  },
  "language_info": {
   "file_extension": ".py",
   "name": "python",
   "version": "3"
  }
 },
 "nbformat": 4,
 "nbformat_minor": 2
}
