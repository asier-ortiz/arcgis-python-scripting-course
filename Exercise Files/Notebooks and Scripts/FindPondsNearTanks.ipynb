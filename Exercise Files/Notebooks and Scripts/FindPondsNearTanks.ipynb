{
 "cells": [
  {
   "cell_type": "markdown",
   "metadata": {},
   "source": [
    "This is information about how to use this script."
   ]
  },
  {
   "cell_type": "code",
   "execution_count": null,
   "metadata": {},
   "outputs": [],
   "source": [
    "# This script buffers a tank layer and a ponds layer\n",
    "# and then intersects the resulting layers to find the area of overlap\n",
    "#\n",
    "# January 1, 2024\n",
    "# Author: Jane Smith\n",
    "\n",
    "import arcpy\n",
    "from sys import argv\n",
    "\n",
    "Tank_Layer = sys.argv[1]\n",
    "Retention_Ponds_Layer = sys.argv[2]\n",
    "Buffer_Distance = sys.argv[3]\n",
    "Danger_Areas_Output_FeatureClass = sys.argv[4]\n",
    "\n",
    "# To allow overwriting outputs change overwriteOutput option to True.\n",
    "arcpy.env.overwriteOutput = True\n",
    "\n",
    "# Process: Buffer (Buffer) (analysis)\n",
    "Output_Feature_Class = \"C:\\\\Users\\\\linkedin\\\\Desktop\\\\Exercise Files\\\\GISData\\\\PythonPracticeProject\\\\PythonPracticeProject.gdb\\\\Tanks_Buffer\"\n",
    "arcpy.analysis.Buffer(in_features=Tank_Layer, out_feature_class=Output_Feature_Class, buffer_distance_or_field=Buffer_Distance, line_side=\"FULL\", line_end_type=\"ROUND\", dissolve_option=\"NONE\", dissolve_field=[], method=\"PLANAR\")\n",
    "\n",
    "# Process: Buffer (2) (Buffer) (analysis)\n",
    "Output_Feature_Class_2_ = \"C:\\\\Users\\\\linkedin\\\\Desktop\\\\Exercise Files\\\\GISData\\\\PythonPracticeProject\\\\PythonPracticeProject.gdb\\\\RetentionPonds_Buffer\"\n",
    "arcpy.analysis.Buffer(in_features=Retention_Ponds_Layer, out_feature_class=Output_Feature_Class_2_, buffer_distance_or_field=Buffer_Distance, line_side=\"FULL\", line_end_type=\"ROUND\", dissolve_option=\"NONE\", dissolve_field=[], method=\"PLANAR\")\n",
    "\n",
    "# Process: Intersect (Intersect) (analysis)\n",
    "arcpy.analysis.Intersect(in_features=[[Output_Feature_Class, \"\"], [Output_Feature_Class_2_, \"\"]], out_feature_class=Danger_Areas_Output_FeatureClass, join_attributes=\"ALL\", cluster_tolerance=\"\", output_type=\"INPUT\")\n",
    "\n",
    "\n"
   ]
  }
 ],
 "metadata": {
  "kernelspec": {
   "display_name": "ArcGISPro",
   "language": "Python",
   "name": "python3"
  },
  "language_info": {
   "file_extension": ".py",
   "name": "python",
   "version": "3"
  }
 },
 "nbformat": 4,
 "nbformat_minor": 2
}
