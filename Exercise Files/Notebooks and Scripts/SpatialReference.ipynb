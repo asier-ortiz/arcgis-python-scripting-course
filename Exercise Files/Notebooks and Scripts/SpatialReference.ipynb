{
 "cells": [
  {
   "cell_type": "code",
   "execution_count": null,
   "metadata": {},
   "outputs": [],
   "source": [
    "import arcpy\n",
    "aprx = arcpy.mp.ArcGISProject(\"CURRENT\")\n",
    "for eachMap in aprx.listMaps():\n",
    "    arcpy.Describe(eachMap)\n",
    "    print (eachMap.SpatialReference.GCS)"
   ]
  },
  {
   "cell_type": "code",
   "execution_count": null,
   "metadata": {},
   "outputs": [],
   "source": []
  }
 ],
 "metadata": {
  "kernelspec": {
   "display_name": "ArcGISPro",
   "language": "Python",
   "name": "python3"
  },
  "language_info": {
   "file_extension": ".py",
   "name": "python",
   "version": "3"
  }
 },
 "nbformat": 4,
 "nbformat_minor": 2
}
