{
 "cells": [
  {
   "cell_type": "code",
   "execution_count": 42,
   "metadata": {},
   "outputs": [
    {
     "name": "stdout",
     "output_type": "stream",
     "text": [
      "Tanks\n",
      "Point\n",
      "RetentionPonds\n",
      "Polygon\n",
      "CoolingTowers\n",
      "Polygon\n",
      "Pipelines\n",
      "Polyline\n",
      "Flares\n",
      "Point\n",
      "TankFarm\n",
      "Polygon\n",
      "RailroadsBuffer\n",
      "Polygon\n"
     ]
    }
   ],
   "source": [
    "import arcpy\n",
    "arcpy.env.workspace = r'C:\\Users\\linkedin\\Desktop\\Exercise Files\\GISData\\PythonPracticeProject\\Baytown.gdb'\n",
    "\n",
    "for eachFC in arcpy.ListFeatureClasses():\n",
    "    print (eachFC)\n",
    "    fcDesc = arcpy.Describe(eachFC) \n",
    "    print (fcDesc.shapeType)\n"
   ]
  },
  {
   "cell_type": "code",
   "execution_count": null,
   "metadata": {},
   "outputs": [],
   "source": []
  }
 ],
 "metadata": {
  "kernelspec": {
   "display_name": "ArcGISPro",
   "language": "Python",
   "name": "python3"
  },
  "language_info": {
   "file_extension": ".py",
   "name": "python",
   "version": "3"
  }
 },
 "nbformat": 4,
 "nbformat_minor": 2
}
