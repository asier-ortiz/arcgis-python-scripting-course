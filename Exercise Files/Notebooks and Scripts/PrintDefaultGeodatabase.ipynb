{
 "cells": [
  {
   "cell_type": "code",
   "execution_count": 3,
   "metadata": {},
   "outputs": [
    {
     "name": "stdout",
     "output_type": "stream",
     "text": [
      "C:\\Users\\linkedin\\Desktop\\Exercise Files\\GISData\\PythonPracticeProject _Solutions\\PythonPracticeProject.gdb\n"
     ]
    }
   ],
   "source": [
    "import arcpy\n",
    "aprxObject = arcpy.mp.ArcGISProject('CURRENT')\n",
    "strDefGDB = aprxObject.defaultGeodatabase\n",
    "print(strDefGDB)"
   ]
  },
  {
   "cell_type": "code",
   "execution_count": null,
   "metadata": {},
   "outputs": [],
   "source": []
  }
 ],
 "metadata": {
  "kernelspec": {
   "display_name": "ArcGISPro",
   "language": "Python",
   "name": "python3"
  },
  "language_info": {
   "file_extension": ".py",
   "name": "python",
   "version": "3"
  }
 },
 "nbformat": 4,
 "nbformat_minor": 2
}
